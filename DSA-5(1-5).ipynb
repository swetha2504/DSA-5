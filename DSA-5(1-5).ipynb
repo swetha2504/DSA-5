{
 "cells": [
  {
   "cell_type": "markdown",
   "id": "bd24895b",
   "metadata": {},
   "source": [
    "### 1.Breadth First Traversal for a Graph"
   ]
  },
  {
   "cell_type": "code",
   "execution_count": 17,
   "id": "9dc6eaad",
   "metadata": {},
   "outputs": [
    {
     "name": "stdout",
     "output_type": "stream",
     "text": [
      "Following is Breadth First Traversal\n",
      "1 2 0 3 "
     ]
    }
   ],
   "source": [
    "from collections import defaultdict\n",
    "\n",
    "\n",
    "class Graph:\n",
    "    def __init__(self):\n",
    "        self.graph = defaultdict(list)\n",
    "\n",
    "    def addEdge(self, u, v):\n",
    "        self.graph[u].append(v)\n",
    "\n",
    "    def BFS(self, s):\n",
    "        visited = [False] * (max(self.graph) + 1)\n",
    "        queue = []\n",
    "        queue.append(s)\n",
    "        visited[s] = True\n",
    "        while queue:\n",
    "            s = queue.pop(0)\n",
    "            print(s, end=\" \")\n",
    "            for i in self.graph[s]:\n",
    "                if visited[i] == False:\n",
    "                    queue.append(i)\n",
    "                    visited[i] = True\n",
    "\n",
    "if __name__ == '__main__':\n",
    "    g = Graph()\n",
    "    g.addEdge(0, 1)\n",
    "    g.addEdge(0, 2)\n",
    "    g.addEdge(1, 2)\n",
    "    g.addEdge(2, 0)\n",
    "    g.addEdge(2, 3)\n",
    "    g.addEdge(3, 3)\n",
    "    print(\"Following is Breadth First Traversal\")\n",
    "    g.BFS(1)\n",
    "\n",
    "\n",
    "\n"
   ]
  },
  {
   "cell_type": "markdown",
   "id": "2b792ffd",
   "metadata": {},
   "source": [
    "### 2.Depth First Traversal for a Graph"
   ]
  },
  {
   "cell_type": "code",
   "execution_count": 16,
   "id": "ea31b621",
   "metadata": {},
   "outputs": [
    {
     "name": "stdout",
     "output_type": "stream",
     "text": [
      "Following is Depth First Traversal\n",
      "1 2 0 3 "
     ]
    }
   ],
   "source": [
    "from collections import defaultdict\n",
    "\n",
    "class Graph:\n",
    "    \n",
    "    def __init__(self):\n",
    "        self.graph=defaultdict(list)\n",
    "\n",
    "    def addEdge(self, u, v):\n",
    "        self.graph[u].append(v)\n",
    "        \n",
    "    def dfsutil(self,v,visited):\n",
    "        visited.add(v)\n",
    "        print(v,end=' ')\n",
    "        \n",
    "        for neighbour in self.graph[v]:\n",
    "            if neighbour not in visited:\n",
    "                self.dfsutil(neighbour,visited)\n",
    "    def dfs(self,v):\n",
    "        visited=set()\n",
    "        self.dfsutil(v,visited)\n",
    "        \n",
    "if __name__=='__main__':\n",
    "    g = Graph()\n",
    "    g.addEdge(0, 1)\n",
    "    g.addEdge(0, 2)\n",
    "    g.addEdge(1, 2)\n",
    "    g.addEdge(2, 0)\n",
    "    g.addEdge(2, 3)\n",
    "    g.addEdge(3, 3)\n",
    " \n",
    "    print(\"Following is Depth First Traversal\")\n",
    "    g.dfs(1)\n",
    "    "
   ]
  },
  {
   "cell_type": "markdown",
   "id": "23d90fad",
   "metadata": {},
   "source": [
    "### 3.Count the number of nodes at given level in a tree using BFS"
   ]
  },
  {
   "cell_type": "code",
   "execution_count": 30,
   "id": "8e1dd09d",
   "metadata": {},
   "outputs": [
    {
     "name": "stdout",
     "output_type": "stream",
     "text": [
      "2\n"
     ]
    }
   ],
   "source": [
    "from collections import deque\n",
    "  \n",
    "adj = [[] for i in range(1001)]\n",
    "  \n",
    "def addEdge(v, w):\n",
    "    adj[v].append(w)\n",
    "    adj[w].append(v)\n",
    "    \n",
    "def BFS(s, l):\n",
    "     \n",
    "    V = 100\n",
    "    visited = [False] * V\n",
    "    level = [0] * V\n",
    "  \n",
    "    for i in range(V):\n",
    "        visited[i] = False\n",
    "        level[i] = 0\n",
    "  \n",
    "    queue = deque()\n",
    "    visited[s] = True\n",
    "    queue.append(s)\n",
    "    level[s] = 0\n",
    "  \n",
    "    while (len(queue) > 0):\n",
    " \n",
    "        s = queue.popleft()\n",
    "        for i in adj[s]:\n",
    "            if (not visited[i]):\n",
    "                level[i] = level[s] + 1\n",
    "                visited[i] = True\n",
    "                queue.append(i)\n",
    "  \n",
    "    count = 0\n",
    "    for i in range(V):\n",
    "        if (level[i] == l):\n",
    "            count += 1\n",
    "             \n",
    "    return count\n",
    "if __name__ == '__main__':\n",
    "    \n",
    "    addEdge(0, 1)\n",
    "    addEdge(0, 5)\n",
    "    addEdge(1, 3)\n",
    "    addEdge(3, 4)\n",
    "    addEdge(2, 5)\n",
    "  \n",
    "    level = 1\n",
    "  \n",
    "    print(BFS(0, level))"
   ]
  },
  {
   "cell_type": "markdown",
   "id": "734ac308",
   "metadata": {},
   "source": [
    "### 4.Count number of trees in a forest"
   ]
  },
  {
   "cell_type": "code",
   "execution_count": 27,
   "id": "9155dd39",
   "metadata": {},
   "outputs": [
    {
     "name": "stdout",
     "output_type": "stream",
     "text": [
      "3\n"
     ]
    }
   ],
   "source": [
    "\n",
    "def addEdge(adj, u, v):\n",
    "    adj[u].append(v)\n",
    "    adj[v].append(u)\n",
    "\n",
    "def DFSUtil(u, adj, visited):\n",
    "    visited[u] = True\n",
    "    for i in range(len(adj[u])):\n",
    "        if (visited[adj[u][i]] == False):\n",
    "            DFSUtil(adj[u][i], adj, visited)\n",
    "\n",
    "def countTrees(adj, V):\n",
    "    visited = [False] * V\n",
    "    res = 0\n",
    "    for u in range(V):\n",
    "        if (visited[u] == False):\n",
    "            DFSUtil(u, adj, visited)\n",
    "            res += 1\n",
    "    return res\n",
    "\n",
    "if __name__ == '__main__':\n",
    "    V = 6\n",
    "    adj = [[] for i in range(V)]\n",
    "    addEdge(adj, 0, 1)\n",
    "    addEdge(adj, 0, 2)\n",
    "    addEdge(adj, 3, 4)\n",
    "    print(countTrees(adj, V))\n",
    "\n"
   ]
  },
  {
   "cell_type": "markdown",
   "id": "af944479",
   "metadata": {},
   "source": [
    "### 5.Detect Cycle in a Directed Graph"
   ]
  },
  {
   "cell_type": "code",
   "execution_count": 32,
   "id": "7180e07b",
   "metadata": {},
   "outputs": [
    {
     "name": "stdout",
     "output_type": "stream",
     "text": [
      "Graph does not contain a cycle.\n"
     ]
    }
   ],
   "source": [
    "from collections import deque\n",
    "\n",
    "class Graph:\n",
    "    def __init__(self, V):\n",
    "        self.V = V\n",
    "        self.adj = [[] for _ in range(V)]\n",
    "    def addEdge(self, v, w):\n",
    "        self.adj[v].append(w)\n",
    "\n",
    "    def isCyclic(self):\n",
    "        inDegree = [0] * self.V\n",
    "        q = deque()\n",
    "        visited = 0\n",
    "        for u in range(self.V):\n",
    "            for v in self.adj[u]:\n",
    "                inDegree[v] += 1\n",
    "        for u in range(self.V):\n",
    "            if inDegree[u] == 0:\n",
    "                q.append(u)\n",
    "\n",
    "        while q:\n",
    "            u = q.popleft()\n",
    "            visited += 1\n",
    "            for v in self.adj[u]:\n",
    "                inDegree[v] -= 1\n",
    "                if inDegree[v] == 0:\n",
    "                    q.append(v)\n",
    "        return visited != self.V \n",
    "if __name__ ==\"__main__\":\n",
    "    g = Graph(6)\n",
    "    g.addEdge(0, 1)\n",
    "    g.addEdge(0, 2)\n",
    "    g.addEdge(1, 3)\n",
    "    g.addEdge(4, 1)\n",
    "    g.addEdge(4, 5)\n",
    "    g.addEdge(5, 3)\n",
    "\n",
    "    if g.isCyclic():\n",
    "        print(\"Graph contains a cycle.\")\n",
    "    else:\n",
    "        print(\"Graph does not contain a cycle.\")"
   ]
  },
  {
   "cell_type": "code",
   "execution_count": null,
   "id": "0be853d6",
   "metadata": {},
   "outputs": [],
   "source": []
  }
 ],
 "metadata": {
  "kernelspec": {
   "display_name": "Python 3 (ipykernel)",
   "language": "python",
   "name": "python3"
  },
  "language_info": {
   "codemirror_mode": {
    "name": "ipython",
    "version": 3
   },
   "file_extension": ".py",
   "mimetype": "text/x-python",
   "name": "python",
   "nbconvert_exporter": "python",
   "pygments_lexer": "ipython3",
   "version": "3.10.9"
  }
 },
 "nbformat": 4,
 "nbformat_minor": 5
}
